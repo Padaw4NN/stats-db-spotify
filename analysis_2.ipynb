{
 "cells": [
  {
   "cell_type": "code",
   "execution_count": 31,
   "metadata": {},
   "outputs": [],
   "source": [
    "import json\n",
    "import numpy as np\n",
    "import pandas as pd\n",
    "import matplotlib.pyplot as plt"
   ]
  },
  {
   "cell_type": "markdown",
   "metadata": {},
   "source": [
    "#### Abertura do json"
   ]
  },
  {
   "cell_type": "code",
   "execution_count": 8,
   "metadata": {},
   "outputs": [],
   "source": [
    "FILE = open(\"spotipy_db.json\")\n",
    "json_file_JP_group = json.load(FILE)"
   ]
  },
  {
   "cell_type": "markdown",
   "metadata": {},
   "source": [
    "----\n",
    "#### ==> *Nailton Sampaio*"
   ]
  },
  {
   "cell_type": "code",
   "execution_count": 35,
   "metadata": {},
   "outputs": [],
   "source": [
    "data = []\n",
    "\n",
    "music_dur = json_file_JP_group[0][\"nome\"][0][\"nailton\"][\"tracks_duration\"]\n",
    "music_nam = json_file_JP_group[0][\"nome\"][0][\"nailton\"][\"musica\"]\n",
    "\n",
    "data.append(music_dur)\n",
    "data.append(music_nam)\n",
    "\n",
    "to_np = np.array(data)\n",
    "to_np = to_np.T"
   ]
  },
  {
   "cell_type": "code",
   "execution_count": 39,
   "metadata": {},
   "outputs": [
    {
     "data": {
      "text/html": [
       "<div>\n",
       "<style scoped>\n",
       "    .dataframe tbody tr th:only-of-type {\n",
       "        vertical-align: middle;\n",
       "    }\n",
       "\n",
       "    .dataframe tbody tr th {\n",
       "        vertical-align: top;\n",
       "    }\n",
       "\n",
       "    .dataframe thead th {\n",
       "        text-align: right;\n",
       "    }\n",
       "</style>\n",
       "<table border=\"1\" class=\"dataframe\">\n",
       "  <thead>\n",
       "    <tr style=\"text-align: right;\">\n",
       "      <th></th>\n",
       "      <th>music_duration</th>\n",
       "      <th>music_name</th>\n",
       "    </tr>\n",
       "  </thead>\n",
       "  <tbody>\n",
       "    <tr>\n",
       "      <th>0</th>\n",
       "      <td>126.95995</td>\n",
       "      <td>Cornfield Chase</td>\n",
       "    </tr>\n",
       "    <tr>\n",
       "      <th>1</th>\n",
       "      <td>275.556</td>\n",
       "      <td>Time</td>\n",
       "    </tr>\n",
       "    <tr>\n",
       "      <th>2</th>\n",
       "      <td>150.66667</td>\n",
       "      <td>Main Titles (You’ve Been Called Back to Top Gun)</td>\n",
       "    </tr>\n",
       "    <tr>\n",
       "      <th>3</th>\n",
       "      <td>199.42268</td>\n",
       "      <td>Day One</td>\n",
       "    </tr>\n",
       "    <tr>\n",
       "      <th>4</th>\n",
       "      <td>148.93333</td>\n",
       "      <td>Top Gun Anthem</td>\n",
       "    </tr>\n",
       "    <tr>\n",
       "      <th>5</th>\n",
       "      <td>383.5132</td>\n",
       "      <td>S.T.A.Y.</td>\n",
       "    </tr>\n",
       "    <tr>\n",
       "      <th>6</th>\n",
       "      <td>219.09274</td>\n",
       "      <td>Mountains</td>\n",
       "    </tr>\n",
       "    <tr>\n",
       "      <th>7</th>\n",
       "      <td>107.76717</td>\n",
       "      <td>First Step</td>\n",
       "    </tr>\n",
       "    <tr>\n",
       "      <th>8</th>\n",
       "      <td>247.4</td>\n",
       "      <td>Chevaliers De Sangreal - From The Da Vinci Cod...</td>\n",
       "    </tr>\n",
       "    <tr>\n",
       "      <th>9</th>\n",
       "      <td>175.4</td>\n",
       "      <td>This Land - From \"The Lion King\"/Score</td>\n",
       "    </tr>\n",
       "  </tbody>\n",
       "</table>\n",
       "</div>"
      ],
      "text/plain": [
       "  music_duration                                         music_name\n",
       "0      126.95995                                    Cornfield Chase\n",
       "1        275.556                                               Time\n",
       "2      150.66667   Main Titles (You’ve Been Called Back to Top Gun)\n",
       "3      199.42268                                            Day One\n",
       "4      148.93333                                     Top Gun Anthem\n",
       "5       383.5132                                           S.T.A.Y.\n",
       "6      219.09274                                          Mountains\n",
       "7      107.76717                                         First Step\n",
       "8          247.4  Chevaliers De Sangreal - From The Da Vinci Cod...\n",
       "9          175.4             This Land - From \"The Lion King\"/Score"
      ]
     },
     "execution_count": 39,
     "metadata": {},
     "output_type": "execute_result"
    }
   ],
   "source": [
    "df = pd.DataFrame(to_np, columns=[\"music_duration\", \"music_name\"])\n",
    "df"
   ]
  },
  {
   "cell_type": "code",
   "execution_count": 47,
   "metadata": {},
   "outputs": [],
   "source": [
    "i=0\n",
    "for _ in df.music_duration:\n",
    "    df.iloc[i, 0] = float(df.iloc[i, 0])\n",
    "    i+=1"
   ]
  },
  {
   "cell_type": "code",
   "execution_count": 62,
   "metadata": {},
   "outputs": [
    {
     "data": {
      "image/png": "[encoded data removed]",
      "text/plain": [
       "<Figure size 1500x700 with 1 Axes>"
      ]
     },
     "metadata": {},
     "output_type": "display_data"
    }
   ],
   "source": [
    "plt.figure(1, figsize=(15, 7))\n",
    "plt.bar(x=df.music_name.index, height=df.music_duration, width=0.5)\n",
    "plt.show()"
   ]
  },
  {
   "cell_type": "code",
   "execution_count": 49,
   "metadata": {},
   "outputs": [
    {
     "data": {
      "text/plain": [
       "203.47117400000002"
      ]
     },
     "execution_count": 49,
     "metadata": {},
     "output_type": "execute_result"
    }
   ],
   "source": [
    "mean_music_duration = df.music_duration.mean()"
   ]
  },
  {
   "cell_type": "code",
   "execution_count": 52,
   "metadata": {},
   "outputs": [
    {
     "data": {
      "text/plain": [
       "'Day One'"
      ]
     },
     "execution_count": 52,
     "metadata": {},
     "output_type": "execute_result"
    }
   ],
   "source": [
    "json_file_JP_group[0][\"nome\"][0][\"nailton\"][\"musica\"][3]"
   ]
  },
  {
   "cell_type": "code",
   "execution_count": 64,
   "metadata": {},
   "outputs": [
    {
     "data": {
      "text/plain": [
       "{'artista': ['Hans Zimmer'],\n",
       " 'generos': ['german soundtrack', 'orchestral soundtrack', 'soundtrack'],\n",
       " 'musica': ['Cornfield Chase',\n",
       "  'Time',\n",
       "  'Main Titles (You’ve Been Called Back to Top Gun)',\n",
       "  'Day One',\n",
       "  'Top Gun Anthem',\n",
       "  'S.T.A.Y.',\n",
       "  'Mountains',\n",
       "  'First Step',\n",
       "  'Chevaliers De Sangreal - From The Da Vinci Code Original Motion Picture Soundtrack',\n",
       "  'This Land - From \"The Lion King\"/Score'],\n",
       " 'album': ['The Last Samurai: Original Motion Picture Score',\n",
       "  'Cinematic Chillout - Relaxing Soundtracks Music'],\n",
       " 'tracks_album': ['Cornfield Chase', 'Day One', 'S.T.A.Y.', 'Mountains'],\n",
       " 'tracks_duration': [126.95995,\n",
       "  275.556,\n",
       "  150.66667,\n",
       "  199.42268,\n",
       "  148.93333,\n",
       "  383.5132,\n",
       "  219.09274,\n",
       "  107.76717,\n",
       "  247.4,\n",
       "  175.4]}"
      ]
     },
     "execution_count": 64,
     "metadata": {},
     "output_type": "execute_result"
    }
   ],
   "source": [
    "json_file_JP_group[0][\"nome\"][0][\"nailton\"] "
   ]
  },
  {
   "cell_type": "code",
   "execution_count": null,
   "metadata": {},
   "outputs": [],
   "source": []
  }
 ],
 "metadata": {
  "kernelspec": {
   "display_name": "Python 3.10.6 64-bit",
   "language": "python",
   "name": "python3"
  },
  "language_info": {
   "codemirror_mode": {
    "name": "ipython",
    "version": 3
   },
   "file_extension": ".py",
   "mimetype": "text/x-python",
   "name": "python",
   "nbconvert_exporter": "python",
   "pygments_lexer": "ipython3",
   "version": "3.10.6"
  },
  "orig_nbformat": 4,
  "vscode": {
   "interpreter": {
    "hash": "916dbcbb3f70747c44a77c7bcd40155683ae19c65e1c03b4aa3499c5328201f1"
   }
  }
 },
 "nbformat": 4,
 "nbformat_minor": 2
}
